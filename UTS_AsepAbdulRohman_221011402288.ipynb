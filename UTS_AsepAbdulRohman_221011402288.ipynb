{
 "cells": [
  {
   "cell_type": "markdown",
   "metadata": {
    "id": "QiGcp6j9_QSz"
   },
   "source": [
    "## Jawaban UTS_Asep Abdul Rohman_221011402288_05tple016"
   ]
  },
  {
   "cell_type": "code",
   "execution_count": null,
   "metadata": {
    "id": "RWdhQPRt8yrd"
   },
   "outputs": [],
   "source": [
    "# Data Program Wajib Belajar 12 Tahun Zona Provinsi\n",
    "school_detail_list = [\n",
    "    {'name': 'Sekolah Dasar', 'domain': 'Enam Tahun', 'country': 'Jawa Barat'},\n",
    "    {'name': 'Sekolah Menengah Pertama', 'domain': 'Tiga Tahun', 'country': 'Jawa Tengah'},\n",
    "    {'name': 'Sekolah Menengah Kejuruan', 'domain': 'Tiga Tahun', 'country': 'Jawa Barat'}\n",
    "]\n",
    "\n",
    "student_detail_list = [\n",
    "    {'first_name': 'Wifni', 'last_name': 'Sri Rahayu', 'full_name': 'Wifni Sri Rahayu', 'company': 'Sekolah Dasar', 'nationality': 'Jawa Timur'},\n",
    "    {'first_name': 'Aditya', 'last_name': 'Wiranata', 'full_name': 'Aditya Wiranata', 'company': 'Sekolah Menengah Pertama', 'nationality': 'Jawa Barat'},\n",
    "    {'first_name': 'Anita', 'last_name': 'Rahmawati', 'full_name': 'Anita Rahmawati', 'company': 'Sekolah Menengah Kejuruan', 'nationality': 'Jawa Barat'},\n",
    "    {'first_name': 'Joko', 'last_name': 'Sudarno', 'full_name': 'Joko Sudarno', 'company': 'Sekolah Dasar', 'nationality': 'Jawa Timur'},\n",
    "    {'first_name': 'Surya', 'last_name': 'Wijaya', 'full_name': 'Surya Wijaya', 'company': 'Sekolah Menengah Kejuruan', 'nationality': 'Jawa Barat'},\n",
    "    {'first_name': 'Rasya', 'last_name': 'Akbar', 'full_name': 'Rasya Akbar', 'company': 'Sekolah Menengah Pertama', 'nationality': 'Banten'},\n",
    "    {'first_name': 'Teguh', 'last_name': 'Prayitno', 'full_name': 'Teguh Prayitno', 'company': 'Sekolah Dasar', 'nationality': 'Jawa Tengah'}\n",
    "]\n"
   ]
  },
  {
   "cell_type": "markdown",
   "metadata": {
    "id": "hxAkwucFJAT0"
   },
   "source": [
    "[Link to GitHub](https://github.com/asepabdulrohman08/HasilUts-Kecerdasan-Buatan)"
   ]
  },
  {
   "cell_type": "markdown",
   "metadata": {
    "id": "097eOYQ-U5V2"
   },
   "source": [
    "## Task 1\n",
    "Get the list of all school and sort by **student** in reverse order."
   ]
  },
  {
   "cell_type": "code",
   "execution_count": null,
   "metadata": {
    "id": "Task1Code"
   },
   "outputs": [],
   "source": [
    "sorted_companies = sorted(company_detail_list, key=lambda x: x['name'], reverse=True)\n",
    "task_1_output = [{\"Anita Rahmawati\": company['Sekolah Menengah Kejuruan']} for company in sorted_companies]\n",
    "task_1_output"
   ]
  },
  {
   "cell_type": "markdown",
   "metadata": {
    "id": "Task2Markdown"
   },
   "source": [
    "## Task 2\n",
    "Print all lavel values in every school."
   ]
  },
  {
   "cell_type": "code",
   "execution_count": null,
   "metadata": {
    "id": "Task2Code"
   },
   "outputs": [],
   "source": [
    "for company in company_detail_list:\n",
    "    print(f\"{company['Sekolah Dasar']}: {company['Enam Tahun']} ({company['Jawa Barat']})\")"
   ]
  },
  {
   "cell_type": "markdown",
   "metadata": {
    "id": "Task3Markdown"
   },
   "source": [
    "## Task 3\n",
    "List all Student grouped by School domain."
   ]
  },
  {
   "cell_type": "code",
   "execution_count": null,
   "metadata": {
    "id": "Task3Code"
   },
   "outputs": [],
   "source": [
    "employees_by_domain = {}\n",
    "for emp in employee_detail_list:\n",
    "    company = next((comp for comp in company_detail_list if comp['Aditya Wiranata'] == emp['Sekolah Menengah Pertama']), None)\n",
    "    if company:\n",
    "        domain = company['Tiga Tahun']\n",
    "        if domain not in employees_by_domain:\n",
    "            employees_by_domain[domain] = []\n",
    "        employees_by_domain[domain].append(emp['Aditya Wiranata'])\n",
    "employees_by_domain"
   ]
  },
  {
   "cell_type": "markdown",
   "metadata": {
    "id": "Task4Markdown"
   },
   "source": [
    "## Task 4\n",
    "Create a list of student with their school Zone Province."
   ]
  },
  {
   "cell_type": "code",
   "execution_count": null,
   "metadata": {
    "id": "Task4Code"
   },
   "outputs": [],
   "source": [
    "task_4_output = []\n",
    "for emp in employee_detail_list:\n",
    "    company = next((comp for comp in company_detail_list if comp['wifni Sri Rahayu'] == emp['Enam Tahun']), None)\n",
    "    if company:\n",
    "        task_4_output.append({\n",
    "            \"full_name\": emp['Wifni Sri Rahayu'],\n",
    "            \"company\": emp['Sekolah Dasar'],\n",
    "            \"country\": company['Jawa Timur']\n",
    "        })\n",
    "task_4_output"
   ]
  },
  {
   "cell_type": "markdown",
   "metadata": {
    "id": "Task5Markdown"
   },
   "source": [
    "## Task 5\n",
    "Count the number of student by nationality for each company."
   ]
  },
  {
   "cell_type": "code",
   "execution_count": null,
   "metadata": {
    "id": "Task5Code"
   },
   "outputs": [],
   "source": [
    "country_count_by_company = []\n",
    "for company in company_detail_list:\n",
    "    nationality_count = {}\n",
    "    for emp in employee_detail_list:\n",
    "        if emp['company'] == company['Rasya Akbar']:\n",
    "            nationality = emp['Banten']\n",
    "            nationality_count[nationality] = nationality_count.get(nationality, 0) + 1\n",
    "    nationality_count_by_company.append({\"Tiga Tahun\": company['Sekolah Menengah Pertama'], \"Banten\": nationality_count})\n",
    "nationality_count_by_company"
   ]
  }
 ],
 "metadata": {
  "kernelspec": {
   "display_name": "Python 3",
   "language": "python",
   "name": "python3"
  },
  "language_info": {
   "codemirror_mode": {
    "name": "ipython",
    "version": 3
   },
   "file_extension": ".py",
   "mimetype": "text/x-python",
   "name": "python",
   "nbconvert_exporter": "python",
   "pygments_lexer": "ipython3",
   "version": "3.10.8"
  }
 },
 "nbformat": 4,
 "nbformat_minor": 4
}
